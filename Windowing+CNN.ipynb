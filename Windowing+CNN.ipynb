{
 "cells": [
  {
   "cell_type": "markdown",
   "id": "d6cd40c4",
   "metadata": {},
   "source": [
    "## Import Libraries"
   ]
  },
  {
   "cell_type": "code",
   "execution_count": 93,
   "id": "56f34daf",
   "metadata": {},
   "outputs": [],
   "source": [
    "import os\n",
    "import h5py\n",
    "import numpy as np\n",
    "import pandas as pd\n",
    "from pandas import DataFrame\n",
    "#import matplotlib.pyplot as plt\n",
    "from sklearn.preprocessing import StandardScaler\n",
    "import tensorflow as tf"
   ]
  },
  {
   "cell_type": "markdown",
   "id": "83f4907d",
   "metadata": {},
   "source": [
    "## Loading Data"
   ]
  },
  {
   "cell_type": "code",
   "execution_count": 94,
   "id": "b868c6a2",
   "metadata": {},
   "outputs": [],
   "source": [
    "# Load data\n",
    "def load_part_array (sample_dir_path, unit_num, win_len, stride, part_num):\n",
    "    filename =  'Unit%s_win%s_str%s_part%s.npz' %(str(int(unit_num)), win_len, stride, part_num)\n",
    "    filepath =  os.path.join(sample_dir_path, filename)\n",
    "    loaded = np.load(filepath)\n",
    "    return loaded['sample'], loaded['label']\n",
    "\n",
    "def load_part_array_merge (npz_units):\n",
    "    sample_array_lst = []\n",
    "    label_array_lst = []\n",
    "    for npz_unit in npz_units:\n",
    "      loaded = np.load(npz_unit)\n",
    "      sample_array_lst.append(loaded['sample'])\n",
    "      label_array_lst.append(loaded['label'])\n",
    "    sample_array = np.dstack(sample_array_lst)\n",
    "    label_array = np.concatenate(label_array_lst)\n",
    "    sample_array = sample_array.transpose(2, 0, 1)\n",
    "    return sample_array, label_array\n",
    "\n",
    "def load_array (sample_dir_path, unit_num, win_len, stride):\n",
    "    filename =  'Unit%s_win%s_str%s_smp10.npz' %(str(int(unit_num)), win_len, stride)\n",
    "    filepath =  os.path.join(sample_dir_path, filename)\n",
    "    loaded = np.load(filepath)\n",
    "\n",
    "    return loaded['sample'].transpose(2, 0, 1), loaded['label']"
   ]
  },
  {
   "cell_type": "markdown",
   "id": "cbb8fed7",
   "metadata": {},
   "source": [
    "### Choosing Specific Unitis for Training and Testing"
   ]
  },
  {
   "cell_type": "code",
   "execution_count": 95,
   "id": "bd763273",
   "metadata": {},
   "outputs": [
    {
     "name": "stdout",
     "output_type": "stream",
     "text": [
      "Load data index:  16.0\n",
      "sample_array.shape (76480, 50, 20)\n",
      "label_array.shape (76480,)\n",
      "sub sample_array.shape (7648, 50, 20)\n",
      "sub label_array.shape (7648,)\n",
      "Load data index:  18.0\n",
      "sample_array.shape (89023, 50, 20)\n",
      "label_array.shape (89023,)\n",
      "sub sample_array.shape (8903, 50, 20)\n",
      "sub label_array.shape (8903,)\n",
      "Load data index:  20.0\n",
      "sample_array.shape (76767, 50, 20)\n",
      "label_array.shape (76767,)\n",
      "sub sample_array.shape (7677, 50, 20)\n",
      "sub label_array.shape (7677,)\n",
      "samples are aggregated\n",
      "Memory released\n",
      "samples are shuffled\n",
      "sample_array.shape (24228, 50, 20)\n",
      "label_array.shape (24228,)\n",
      "train sample dtype float32\n",
      "train label dtype float32\n"
     ]
    }
   ],
   "source": [
    "def release_list(a):\n",
    "   del a[:]\n",
    "   del a\n",
    "\n",
    "units_index_train = [16.0, 18.0, 20.0]\n",
    "units_index_test = [11.0, 14.0, 15.0]\n",
    "\n",
    "sample_dir_path ='Samples_whole'\n",
    "sub=10\n",
    "\n",
    "train_units_samples_lst =[]\n",
    "train_units_labels_lst = []\n",
    "\n",
    "for index in units_index_train:\n",
    "        print(\"Load data index: \", index)\n",
    "        sample_array, label_array = load_array (sample_dir_path, index, 50, 1)\n",
    "        #sample_array, label_array = shuffle_array(sample_array, label_array)\n",
    "        print(\"sample_array.shape\", sample_array.shape)\n",
    "        print(\"label_array.shape\", label_array.shape)\n",
    "        sample_array = sample_array[::sub]\n",
    "        label_array = label_array[::sub]\n",
    "        print(\"sub sample_array.shape\", sample_array.shape)\n",
    "        print(\"sub label_array.shape\", label_array.shape)\n",
    "        train_units_samples_lst.append(sample_array)\n",
    "        train_units_labels_lst.append(label_array)\n",
    "        \n",
    "sample_array = np.concatenate(train_units_samples_lst)\n",
    "label_array = np.concatenate(train_units_labels_lst)\n",
    "print (\"samples are aggregated\")\n",
    "\n",
    "release_list(train_units_samples_lst)\n",
    "release_list(train_units_labels_lst)\n",
    "train_units_samples_lst =[]\n",
    "train_units_labels_lst = []\n",
    "print(\"Memory released\")\n",
    "\n",
    "    #sample_array, label_array = shuffle_array(sample_array, label_array)\n",
    "print(\"samples are shuffled\")\n",
    "print(\"sample_array.shape\", sample_array.shape)\n",
    "print(\"label_array.shape\", label_array.shape)\n",
    "\n",
    "print (\"train sample dtype\", sample_array.dtype)\n",
    "print(\"train label dtype\", label_array.dtype)"
   ]
  },
  {
   "cell_type": "markdown",
   "id": "5640cf1e",
   "metadata": {},
   "source": [
    "### Convoloutional Nueral Network"
   ]
  },
  {
   "cell_type": "code",
   "execution_count": 96,
   "id": "789a9a9b",
   "metadata": {},
   "outputs": [
    {
     "name": "stdout",
     "output_type": "stream",
     "text": [
      "Model: \"model_conv1D\"\n",
      "_________________________________________________________________\n",
      "Layer (type)                 Output Shape              Param #   \n",
      "=================================================================\n",
      "Conv1D_1 (Conv1D)            (None, 50, 9)             549       \n",
      "_________________________________________________________________\n",
      "Conv1D_2 (Conv1D)            (None, 50, 9)             252       \n",
      "_________________________________________________________________\n",
      "Conv1D_3 (Conv1D)            (None, 50, 9)             252       \n",
      "_________________________________________________________________\n",
      "Conv1D_4 (Conv1D)            (None, 50, 1)             28        \n",
      "_________________________________________________________________\n",
      "flatten_13 (Flatten)         (None, 50)                0         \n",
      "_________________________________________________________________\n",
      "Dense_1 (Dense)              (None, 100)               5100      \n",
      "_________________________________________________________________\n",
      "Dense_2 (Dense)              (None, 1)                 101       \n",
      "=================================================================\n",
      "Total params: 6,282\n",
      "Trainable params: 6,282\n",
      "Non-trainable params: 0\n",
      "_________________________________________________________________\n",
      "None\n"
     ]
    }
   ],
   "source": [
    "model = tf.keras.Sequential(name=\"model_conv1D\")\n",
    "model.add(tf.keras.layers.Input(shape=(sample_array.shape[1],sample_array.shape[2]), name=\"input\"))\n",
    "model.add(tf.keras.layers.Conv1D(filters=9, kernel_size=3, strides=1, padding='same', activation='relu', name=\"Conv1D_1\"))\n",
    "model.add(tf.keras.layers.Conv1D(filters=9, kernel_size=3, strides=1, padding='same', activation='relu', name=\"Conv1D_2\"))\n",
    "  \n",
    "model.add(tf.keras.layers.Conv1D(filters=9, kernel_size=3, strides=1, padding='same', activation='relu', name=\"Conv1D_3\"))\n",
    "model.add(tf.keras.layers.Conv1D(filters=1, kernel_size=3, strides=1, padding='same', activation='relu', name=\"Conv1D_4\"))\n",
    "  \n",
    "model.add(tf.keras.layers.Flatten())\n",
    "model.add(tf.keras.layers.Dense(100, activation='relu', name=\"Dense_1\"))\n",
    "model.add(tf.keras.layers.Dense(1, activation='linear', name=\"Dense_2\"))\n",
    "\n",
    "model.compile(loss='mean_squared_error', optimizer='adam', metrics=['mean_squared_error'])\n",
    "print(model.summary())"
   ]
  },
  {
   "cell_type": "code",
   "execution_count": 97,
   "id": "935e34fe",
   "metadata": {},
   "outputs": [
    {
     "name": "stdout",
     "output_type": "stream",
     "text": [
      "Epoch 1/250\n",
      "43/43 [==============================] - 1s 6ms/step - loss: 1197.1906 - mean_squared_error: 1197.1906 - val_loss: 1138.8770 - val_mean_squared_error: 1138.8770\n",
      "Epoch 2/250\n",
      "43/43 [==============================] - 0s 4ms/step - loss: 420.6388 - mean_squared_error: 420.6388 - val_loss: 710.7925 - val_mean_squared_error: 710.7925\n",
      "Epoch 3/250\n",
      "43/43 [==============================] - 0s 4ms/step - loss: 368.2999 - mean_squared_error: 368.2999 - val_loss: 696.2688 - val_mean_squared_error: 696.2688\n",
      "Epoch 4/250\n",
      "43/43 [==============================] - 0s 4ms/step - loss: 353.0310 - mean_squared_error: 353.0310 - val_loss: 669.2526 - val_mean_squared_error: 669.2526\n",
      "Epoch 5/250\n",
      "43/43 [==============================] - 0s 4ms/step - loss: 335.9728 - mean_squared_error: 335.9728 - val_loss: 688.7085 - val_mean_squared_error: 688.7085\n",
      "Epoch 6/250\n",
      "43/43 [==============================] - 0s 4ms/step - loss: 302.3578 - mean_squared_error: 302.3578 - val_loss: 513.5201 - val_mean_squared_error: 513.5201\n",
      "Epoch 7/250\n",
      "43/43 [==============================] - 0s 4ms/step - loss: 226.0658 - mean_squared_error: 226.0658 - val_loss: 301.0335 - val_mean_squared_error: 301.0335\n",
      "Epoch 8/250\n",
      "43/43 [==============================] - 0s 4ms/step - loss: 116.8398 - mean_squared_error: 116.8398 - val_loss: 28.1262 - val_mean_squared_error: 28.1262\n",
      "Epoch 9/250\n",
      "43/43 [==============================] - 0s 3ms/step - loss: 66.6557 - mean_squared_error: 66.6557 - val_loss: 11.5088 - val_mean_squared_error: 11.5088\n",
      "Epoch 10/250\n",
      "43/43 [==============================] - 0s 4ms/step - loss: 50.5183 - mean_squared_error: 50.5183 - val_loss: 6.6917 - val_mean_squared_error: 6.6917\n",
      "Epoch 11/250\n",
      "43/43 [==============================] - 0s 4ms/step - loss: 40.6092 - mean_squared_error: 40.6092 - val_loss: 5.4480 - val_mean_squared_error: 5.4480\n",
      "Epoch 12/250\n",
      "43/43 [==============================] - 0s 4ms/step - loss: 35.8591 - mean_squared_error: 35.8591 - val_loss: 4.0520 - val_mean_squared_error: 4.0520\n",
      "Epoch 13/250\n",
      "43/43 [==============================] - 0s 4ms/step - loss: 36.4884 - mean_squared_error: 36.4884 - val_loss: 4.9754 - val_mean_squared_error: 4.9754\n",
      "Epoch 14/250\n",
      "43/43 [==============================] - 0s 4ms/step - loss: 31.8234 - mean_squared_error: 31.8234 - val_loss: 5.5059 - val_mean_squared_error: 5.5059\n",
      "Epoch 15/250\n",
      "43/43 [==============================] - 0s 4ms/step - loss: 32.0331 - mean_squared_error: 32.0331 - val_loss: 5.5833 - val_mean_squared_error: 5.5833\n",
      "Epoch 16/250\n",
      "43/43 [==============================] - 0s 4ms/step - loss: 31.8786 - mean_squared_error: 31.8786 - val_loss: 4.4676 - val_mean_squared_error: 4.4676\n",
      "Epoch 17/250\n",
      "43/43 [==============================] - 0s 4ms/step - loss: 28.4386 - mean_squared_error: 28.4386 - val_loss: 4.6852 - val_mean_squared_error: 4.6852\n",
      "Epoch 18/250\n",
      "43/43 [==============================] - 0s 4ms/step - loss: 29.5529 - mean_squared_error: 29.5529 - val_loss: 6.7865 - val_mean_squared_error: 6.7865\n",
      "Epoch 19/250\n",
      "43/43 [==============================] - 0s 4ms/step - loss: 28.5108 - mean_squared_error: 28.5108 - val_loss: 4.7014 - val_mean_squared_error: 4.7014\n",
      "Epoch 20/250\n",
      "43/43 [==============================] - 0s 4ms/step - loss: 27.6890 - mean_squared_error: 27.6890 - val_loss: 7.9120 - val_mean_squared_error: 7.9120\n",
      "Epoch 21/250\n",
      "43/43 [==============================] - 0s 4ms/step - loss: 27.5944 - mean_squared_error: 27.5944 - val_loss: 4.5962 - val_mean_squared_error: 4.5962\n",
      "Epoch 22/250\n",
      "43/43 [==============================] - 0s 4ms/step - loss: 25.9680 - mean_squared_error: 25.9680 - val_loss: 3.7228 - val_mean_squared_error: 3.7228\n",
      "Epoch 23/250\n",
      "43/43 [==============================] - 0s 4ms/step - loss: 26.1013 - mean_squared_error: 26.1013 - val_loss: 5.4110 - val_mean_squared_error: 5.4110\n",
      "Epoch 24/250\n",
      "43/43 [==============================] - 0s 4ms/step - loss: 26.1913 - mean_squared_error: 26.1913 - val_loss: 4.1672 - val_mean_squared_error: 4.1672\n",
      "Epoch 25/250\n",
      "43/43 [==============================] - 0s 4ms/step - loss: 26.2937 - mean_squared_error: 26.2937 - val_loss: 3.7431 - val_mean_squared_error: 3.7431\n",
      "Epoch 26/250\n",
      "43/43 [==============================] - 0s 4ms/step - loss: 25.8213 - mean_squared_error: 25.8213 - val_loss: 7.1076 - val_mean_squared_error: 7.1076\n",
      "Epoch 27/250\n",
      "43/43 [==============================] - 0s 4ms/step - loss: 24.7861 - mean_squared_error: 24.7861 - val_loss: 5.5751 - val_mean_squared_error: 5.5751\n",
      "Epoch 28/250\n",
      "43/43 [==============================] - 0s 4ms/step - loss: 26.7738 - mean_squared_error: 26.7738 - val_loss: 4.2226 - val_mean_squared_error: 4.2226\n",
      "Epoch 29/250\n",
      "43/43 [==============================] - 0s 4ms/step - loss: 26.4956 - mean_squared_error: 26.4956 - val_loss: 2.9426 - val_mean_squared_error: 2.9426\n",
      "Epoch 30/250\n",
      "43/43 [==============================] - 0s 4ms/step - loss: 27.0910 - mean_squared_error: 27.0910 - val_loss: 3.4504 - val_mean_squared_error: 3.4504\n",
      "Epoch 31/250\n",
      "43/43 [==============================] - 0s 4ms/step - loss: 24.8339 - mean_squared_error: 24.8339 - val_loss: 3.2656 - val_mean_squared_error: 3.2656\n",
      "Epoch 32/250\n",
      "43/43 [==============================] - 0s 4ms/step - loss: 23.9662 - mean_squared_error: 23.9662 - val_loss: 2.9473 - val_mean_squared_error: 2.9473\n",
      "Epoch 33/250\n",
      "43/43 [==============================] - 0s 4ms/step - loss: 24.4436 - mean_squared_error: 24.4436 - val_loss: 3.4239 - val_mean_squared_error: 3.4239\n",
      "Epoch 34/250\n",
      "43/43 [==============================] - 0s 4ms/step - loss: 23.6176 - mean_squared_error: 23.6176 - val_loss: 3.1446 - val_mean_squared_error: 3.1446\n",
      "Epoch 35/250\n",
      "43/43 [==============================] - 0s 4ms/step - loss: 23.6656 - mean_squared_error: 23.6656 - val_loss: 4.6341 - val_mean_squared_error: 4.6341\n",
      "Epoch 36/250\n",
      "43/43 [==============================] - 0s 4ms/step - loss: 24.1510 - mean_squared_error: 24.1510 - val_loss: 3.1315 - val_mean_squared_error: 3.1315\n",
      "Epoch 37/250\n",
      "43/43 [==============================] - 0s 4ms/step - loss: 24.7491 - mean_squared_error: 24.7491 - val_loss: 3.6495 - val_mean_squared_error: 3.6495\n",
      "Epoch 38/250\n",
      "43/43 [==============================] - 0s 4ms/step - loss: 23.8561 - mean_squared_error: 23.8561 - val_loss: 3.8919 - val_mean_squared_error: 3.8919\n",
      "Epoch 39/250\n",
      "43/43 [==============================] - 0s 4ms/step - loss: 22.5514 - mean_squared_error: 22.5514 - val_loss: 3.4921 - val_mean_squared_error: 3.4921\n"
     ]
    }
   ],
   "source": [
    "history = model.fit(\n",
    "    sample_array,\n",
    "    label_array,\n",
    "    validation_split=0.1,\n",
    "    epochs=250,\n",
    "    batch_size=512,\n",
    "    callbacks=[\n",
    "        tf.keras.callbacks.EarlyStopping(\n",
    "            monitor='val_loss',\n",
    "            patience=10,\n",
    "            restore_best_weights=True\n",
    "        )\n",
    "    ]\n",
    ")"
   ]
  },
  {
   "cell_type": "code",
   "execution_count": 98,
   "id": "900f4c92",
   "metadata": {},
   "outputs": [
    {
     "data": {
      "image/png": "[encoded data removed]",
      "text/plain": [
       "<Figure size 432x288 with 1 Axes>"
      ]
     },
     "metadata": {
      "needs_background": "light"
     },
     "output_type": "display_data"
    },
    {
     "name": "stdout",
     "output_type": "stream",
     "text": [
      "5.995938834012628\n"
     ]
    }
   ],
   "source": [
    "import matplotlib.pyplot as plt\n",
    "\n",
    "\n",
    "plt.plot(history.history['loss'])\n",
    "plt.plot(history.history['val_loss'])\n",
    "plt.title('model loss')\n",
    "plt.ylabel('loss')\n",
    "plt.xlabel('epoch')\n",
    "plt.legend(['train', 'val'], loc='upper left')\n",
    "plt.show()\n",
    "\n",
    "\n",
    "from math import sqrt\n",
    "from sklearn.metrics import mean_squared_error\n",
    "\n",
    "output_lst = []\n",
    "truth_lst = []   \n",
    "\n",
    "for index in units_index_test:\n",
    "        sample_array, label_array = load_array(sample_dir_path, index, 50, 1)\n",
    "        sample_array = sample_array[::sub]\n",
    "        label_array = label_array[::sub]\n",
    "\n",
    "        y_pred_test = model.predict(sample_array)\n",
    "        output_lst.append(y_pred_test)\n",
    "        truth_lst.append(label_array)\n",
    "\n",
    "output_array = np.concatenate(output_lst)[:, 0]\n",
    "trytg_array = np.concatenate(truth_lst)\n",
    "\n",
    "RMSE = sqrt(mean_squared_error(output_array, trytg_array))\n",
    "print(RMSE)\n"
   ]
  },
  {
   "cell_type": "markdown",
   "id": "34d2192b",
   "metadata": {},
   "source": [
    "### Saving Model"
   ]
  },
  {
   "cell_type": "code",
   "execution_count": 99,
   "id": "11c4a22c",
   "metadata": {},
   "outputs": [],
   "source": [
    "model.save('WindowingCNN.h5')"
   ]
  }
 ],
 "metadata": {
  "kernelspec": {
   "display_name": "Python 3 (ipykernel)",
   "language": "python",
   "name": "python3"
  },
  "language_info": {
   "codemirror_mode": {
    "name": "ipython",
    "version": 3
   },
   "file_extension": ".py",
   "mimetype": "text/x-python",
   "name": "python",
   "nbconvert_exporter": "python",
   "pygments_lexer": "ipython3",
   "version": "3.9.12"
  }
 },
 "nbformat": 4,
 "nbformat_minor": 5
}
