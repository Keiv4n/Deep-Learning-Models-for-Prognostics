{
 "cells": [
  {
   "cell_type": "markdown",
   "id": "d6cd40c4",
   "metadata": {},
   "source": [
    "## Import Libraries"
   ]
  },
  {
   "cell_type": "code",
   "execution_count": 27,
   "id": "56f34daf",
   "metadata": {},
   "outputs": [],
   "source": [
    "import os\n",
    "import h5py\n",
    "import numpy as np\n",
    "import pandas as pd\n",
    "from pandas import DataFrame\n",
    "#import matplotlib.pyplot as plt\n",
    "from sklearn.preprocessing import StandardScaler\n",
    "import tensorflow as tf"
   ]
  },
  {
   "cell_type": "markdown",
   "id": "83f4907d",
   "metadata": {},
   "source": [
    "## Loading Data"
   ]
  },
  {
   "cell_type": "code",
   "execution_count": 28,
   "id": "b868c6a2",
   "metadata": {},
   "outputs": [],
   "source": [
    "# Load data\n",
    "def load_part_array (sample_dir_path, unit_num, win_len, stride, part_num):\n",
    "    filename =  'Unit%s_win%s_str%s_part%s.npz' %(str(int(unit_num)), win_len, stride, part_num)\n",
    "    filepath =  os.path.join(sample_dir_path, filename)\n",
    "    loaded = np.load(filepath)\n",
    "    return loaded['sample'], loaded['label']\n",
    "\n",
    "def load_part_array_merge (npz_units):\n",
    "    sample_array_lst = []\n",
    "    label_array_lst = []\n",
    "    for npz_unit in npz_units:\n",
    "      loaded = np.load(npz_unit)\n",
    "      sample_array_lst.append(loaded['sample'])\n",
    "      label_array_lst.append(loaded['label'])\n",
    "    sample_array = np.dstack(sample_array_lst)\n",
    "    label_array = np.concatenate(label_array_lst)\n",
    "    sample_array = sample_array.transpose(2, 0, 1)\n",
    "    return sample_array, label_array\n",
    "\n",
    "def load_array (sample_dir_path, unit_num, win_len, stride):\n",
    "    filename =  'Unit%s_win%s_str%s_smp10.npz' %(str(int(unit_num)), win_len, stride)\n",
    "    filepath =  os.path.join(sample_dir_path, filename)\n",
    "    loaded = np.load(filepath)\n",
    "\n",
    "    return loaded['sample'].transpose(2, 0, 1), loaded['label']"
   ]
  },
  {
   "cell_type": "markdown",
   "id": "cbb8fed7",
   "metadata": {},
   "source": [
    "### Choosing Specific Unitis for Training and Testing"
   ]
  },
  {
   "cell_type": "code",
   "execution_count": 29,
   "id": "bd763273",
   "metadata": {},
   "outputs": [
    {
     "name": "stdout",
     "output_type": "stream",
     "text": [
      "Load data index:  16.0\n",
      "sample_array.shape (76480, 50, 20)\n",
      "label_array.shape (76480,)\n",
      "sub sample_array.shape (7648, 50, 20)\n",
      "sub label_array.shape (7648,)\n",
      "Load data index:  18.0\n",
      "sample_array.shape (89023, 50, 20)\n",
      "label_array.shape (89023,)\n",
      "sub sample_array.shape (8903, 50, 20)\n",
      "sub label_array.shape (8903,)\n",
      "Load data index:  20.0\n",
      "sample_array.shape (76767, 50, 20)\n",
      "label_array.shape (76767,)\n",
      "sub sample_array.shape (7677, 50, 20)\n",
      "sub label_array.shape (7677,)\n",
      "samples are aggregated\n",
      "Memory released\n",
      "samples are shuffled\n",
      "sample_array.shape (24228, 50, 20)\n",
      "label_array.shape (24228,)\n",
      "train sample dtype float32\n",
      "train label dtype float32\n"
     ]
    }
   ],
   "source": [
    "def release_list(a):\n",
    "   del a[:]\n",
    "   del a\n",
    "\n",
    "units_index_train = [16.0, 18.0, 20.0]\n",
    "units_index_test = [11.0, 14.0, 15.0]\n",
    "\n",
    "sample_dir_path ='Samples_whole'\n",
    "sub=10\n",
    "\n",
    "train_units_samples_lst =[]\n",
    "train_units_labels_lst = []\n",
    "\n",
    "for index in units_index_train:\n",
    "        print(\"Load data index: \", index)\n",
    "        sample_array, label_array = load_array (sample_dir_path, index, 50, 1)\n",
    "        #sample_array, label_array = shuffle_array(sample_array, label_array)\n",
    "        print(\"sample_array.shape\", sample_array.shape)\n",
    "        print(\"label_array.shape\", label_array.shape)\n",
    "        sample_array = sample_array[::sub]\n",
    "        label_array = label_array[::sub]\n",
    "        print(\"sub sample_array.shape\", sample_array.shape)\n",
    "        print(\"sub label_array.shape\", label_array.shape)\n",
    "        train_units_samples_lst.append(sample_array)\n",
    "        train_units_labels_lst.append(label_array)\n",
    "        \n",
    "sample_array = np.concatenate(train_units_samples_lst)\n",
    "label_array = np.concatenate(train_units_labels_lst)\n",
    "print (\"samples are aggregated\")\n",
    "\n",
    "release_list(train_units_samples_lst)\n",
    "release_list(train_units_labels_lst)\n",
    "train_units_samples_lst =[]\n",
    "train_units_labels_lst = []\n",
    "print(\"Memory released\")\n",
    "\n",
    "    #sample_array, label_array = shuffle_array(sample_array, label_array)\n",
    "print(\"samples are shuffled\")\n",
    "print(\"sample_array.shape\", sample_array.shape)\n",
    "print(\"label_array.shape\", label_array.shape)\n",
    "\n",
    "print (\"train sample dtype\", sample_array.dtype)\n",
    "print(\"train label dtype\", label_array.dtype)"
   ]
  },
  {
   "cell_type": "markdown",
   "id": "28a5a37a",
   "metadata": {},
   "source": [
    "### LSTM"
   ]
  },
  {
   "cell_type": "code",
   "execution_count": 30,
   "id": "789a9a9b",
   "metadata": {},
   "outputs": [
    {
     "name": "stdout",
     "output_type": "stream",
     "text": [
      "Model: \"model_4\"\n",
      "_________________________________________________________________\n",
      "Layer (type)                 Output Shape              Param #   \n",
      "=================================================================\n",
      "input_5 (InputLayer)         [(None, 50, 20)]          0         \n",
      "_________________________________________________________________\n",
      "lstm_12 (LSTM)               (None, 50, 10)            1240      \n",
      "_________________________________________________________________\n",
      "lstm_13 (LSTM)               (None, 50, 10)            840       \n",
      "_________________________________________________________________\n",
      "lstm_14 (LSTM)               (None, 50, 10)            840       \n",
      "_________________________________________________________________\n",
      "flatten_4 (Flatten)          (None, 500)               0         \n",
      "_________________________________________________________________\n",
      "dense_8 (Dense)              (None, 100)               50100     \n",
      "_________________________________________________________________\n",
      "dense_9 (Dense)              (None, 1)                 101       \n",
      "=================================================================\n",
      "Total params: 53,121\n",
      "Trainable params: 53,121\n",
      "Non-trainable params: 0\n",
      "_________________________________________________________________\n",
      "None\n"
     ]
    }
   ],
   "source": [
    "from tensorflow.keras import optimizers\n",
    "from tensorflow.keras.models import Sequential, load_model, Model\n",
    "from tensorflow.keras.layers import Input, Dense, Flatten, Dropout, Embedding\n",
    "from tensorflow.keras.layers import BatchNormalization, Activation, LSTM, TimeDistributed, Bidirectional\n",
    "from tensorflow.keras.layers import Conv1D\n",
    "from tensorflow.keras.layers import MaxPooling1D\n",
    "from tensorflow.keras.layers import concatenate\n",
    "from tensorflow.keras.callbacks import EarlyStopping, ModelCheckpoint\n",
    "from tensorflow.keras.initializers import GlorotNormal, GlorotUniform\n",
    "from tensorflow.keras.initializers import GlorotNormal, GlorotUniform\n",
    "from tcn import TCN\n",
    "\n",
    "inputs = tf.keras.Input(shape=([50,20]))\n",
    "\n",
    "#expand_dims = tf.expand_dims(inputs, axis=2)\n",
    "\n",
    "lstm = tf.keras.layers.LSTM(10, return_sequences=True)(inputs)\n",
    "lstm = tf.keras.layers.LSTM(10, return_sequences=True)(lstm)\n",
    "lstm = tf.keras.layers.LSTM(10, return_sequences=True)(lstm)\n",
    "\n",
    "flatten = tf.keras.layers.Flatten()(lstm)\n",
    "\n",
    "dense = tf.keras.layers.Dense(100, activation='linear')(flatten)\n",
    "\n",
    "outputs = tf.keras.layers.Dense(1, activation='linear')(dense)\n",
    "\n",
    "\n",
    "model = tf.keras.Model(inputs=inputs, outputs=outputs)\n",
    "\n",
    "print(model.summary())\n",
    "model.compile(loss='mean_squared_error', optimizer='adam', metrics=['mean_squared_error'])"
   ]
  },
  {
   "cell_type": "code",
   "execution_count": 31,
   "id": "935e34fe",
   "metadata": {
    "scrolled": false
   },
   "outputs": [
    {
     "name": "stdout",
     "output_type": "stream",
     "text": [
      "Epoch 1/250\n",
      "43/43 [==============================] - 4s 36ms/step - loss: 779.7234 - mean_squared_error: 779.7234 - val_loss: 494.4492 - val_mean_squared_error: 494.4492\n",
      "Epoch 2/250\n",
      "43/43 [==============================] - 1s 15ms/step - loss: 358.3300 - mean_squared_error: 358.3300 - val_loss: 685.3326 - val_mean_squared_error: 685.3326\n",
      "Epoch 3/250\n",
      "43/43 [==============================] - 1s 15ms/step - loss: 351.2151 - mean_squared_error: 351.2151 - val_loss: 647.2549 - val_mean_squared_error: 647.2549\n",
      "Epoch 4/250\n",
      "43/43 [==============================] - 1s 15ms/step - loss: 336.2259 - mean_squared_error: 336.2259 - val_loss: 490.2991 - val_mean_squared_error: 490.2991\n",
      "Epoch 5/250\n",
      "43/43 [==============================] - 1s 15ms/step - loss: 184.1192 - mean_squared_error: 184.1192 - val_loss: 56.3270 - val_mean_squared_error: 56.3270\n",
      "Epoch 6/250\n",
      "43/43 [==============================] - 1s 15ms/step - loss: 61.6376 - mean_squared_error: 61.6376 - val_loss: 6.1925 - val_mean_squared_error: 6.1925\n",
      "Epoch 7/250\n",
      "43/43 [==============================] - 1s 15ms/step - loss: 39.4421 - mean_squared_error: 39.4421 - val_loss: 3.1320 - val_mean_squared_error: 3.1320\n",
      "Epoch 8/250\n",
      "43/43 [==============================] - 1s 15ms/step - loss: 33.7665 - mean_squared_error: 33.7665 - val_loss: 3.1968 - val_mean_squared_error: 3.1968\n",
      "Epoch 9/250\n",
      "43/43 [==============================] - 1s 15ms/step - loss: 34.4567 - mean_squared_error: 34.4567 - val_loss: 1.6908 - val_mean_squared_error: 1.6908\n",
      "Epoch 10/250\n",
      "43/43 [==============================] - 1s 15ms/step - loss: 31.8594 - mean_squared_error: 31.8594 - val_loss: 1.9498 - val_mean_squared_error: 1.9498\n",
      "Epoch 11/250\n",
      "43/43 [==============================] - 1s 15ms/step - loss: 35.7673 - mean_squared_error: 35.7673 - val_loss: 1.8484 - val_mean_squared_error: 1.8484\n",
      "Epoch 12/250\n",
      "43/43 [==============================] - 1s 15ms/step - loss: 33.0157 - mean_squared_error: 33.0157 - val_loss: 1.4883 - val_mean_squared_error: 1.4883\n",
      "Epoch 13/250\n",
      "43/43 [==============================] - 1s 15ms/step - loss: 29.0022 - mean_squared_error: 29.0022 - val_loss: 1.7264 - val_mean_squared_error: 1.7264\n",
      "Epoch 14/250\n",
      "43/43 [==============================] - 1s 14ms/step - loss: 29.1937 - mean_squared_error: 29.1937 - val_loss: 1.2531 - val_mean_squared_error: 1.2531\n",
      "Epoch 15/250\n",
      "43/43 [==============================] - 1s 15ms/step - loss: 31.1027 - mean_squared_error: 31.1027 - val_loss: 1.4980 - val_mean_squared_error: 1.4980\n",
      "Epoch 16/250\n",
      "43/43 [==============================] - 1s 15ms/step - loss: 32.7139 - mean_squared_error: 32.7139 - val_loss: 1.1905 - val_mean_squared_error: 1.1905\n",
      "Epoch 17/250\n",
      "43/43 [==============================] - 1s 15ms/step - loss: 30.7021 - mean_squared_error: 30.7021 - val_loss: 1.2702 - val_mean_squared_error: 1.2702\n",
      "Epoch 18/250\n",
      "43/43 [==============================] - 1s 15ms/step - loss: 28.8135 - mean_squared_error: 28.8135 - val_loss: 1.1192 - val_mean_squared_error: 1.1192\n",
      "Epoch 19/250\n",
      "43/43 [==============================] - 1s 14ms/step - loss: 27.7121 - mean_squared_error: 27.7121 - val_loss: 1.0064 - val_mean_squared_error: 1.0064\n",
      "Epoch 20/250\n",
      "43/43 [==============================] - 1s 14ms/step - loss: 26.6309 - mean_squared_error: 26.6309 - val_loss: 1.3343 - val_mean_squared_error: 1.3343\n",
      "Epoch 21/250\n",
      "43/43 [==============================] - 1s 15ms/step - loss: 26.4954 - mean_squared_error: 26.4954 - val_loss: 1.0832 - val_mean_squared_error: 1.0832\n",
      "Epoch 22/250\n",
      "43/43 [==============================] - 1s 15ms/step - loss: 26.9673 - mean_squared_error: 26.9673 - val_loss: 1.1095 - val_mean_squared_error: 1.1095\n",
      "Epoch 23/250\n",
      "43/43 [==============================] - 1s 15ms/step - loss: 28.2584 - mean_squared_error: 28.2584 - val_loss: 1.5310 - val_mean_squared_error: 1.5310\n",
      "Epoch 24/250\n",
      "43/43 [==============================] - 1s 15ms/step - loss: 26.2022 - mean_squared_error: 26.2022 - val_loss: 0.8706 - val_mean_squared_error: 0.8706\n",
      "Epoch 25/250\n",
      "43/43 [==============================] - 1s 15ms/step - loss: 28.0003 - mean_squared_error: 28.0003 - val_loss: 1.8323 - val_mean_squared_error: 1.8323\n",
      "Epoch 26/250\n",
      "43/43 [==============================] - 1s 15ms/step - loss: 26.4079 - mean_squared_error: 26.4079 - val_loss: 1.3320 - val_mean_squared_error: 1.3320\n",
      "Epoch 27/250\n",
      "43/43 [==============================] - 1s 15ms/step - loss: 25.9277 - mean_squared_error: 25.9277 - val_loss: 0.9330 - val_mean_squared_error: 0.9330\n",
      "Epoch 28/250\n",
      "43/43 [==============================] - 1s 15ms/step - loss: 26.7068 - mean_squared_error: 26.7068 - val_loss: 1.8982 - val_mean_squared_error: 1.8982\n",
      "Epoch 29/250\n",
      "43/43 [==============================] - 1s 15ms/step - loss: 26.4133 - mean_squared_error: 26.4133 - val_loss: 1.0533 - val_mean_squared_error: 1.0533\n",
      "Epoch 30/250\n",
      "43/43 [==============================] - 1s 15ms/step - loss: 26.3885 - mean_squared_error: 26.3885 - val_loss: 1.8213 - val_mean_squared_error: 1.8213\n",
      "Epoch 31/250\n",
      "43/43 [==============================] - 1s 15ms/step - loss: 28.3719 - mean_squared_error: 28.3719 - val_loss: 0.9585 - val_mean_squared_error: 0.9585\n",
      "Epoch 32/250\n",
      "43/43 [==============================] - 1s 15ms/step - loss: 25.1874 - mean_squared_error: 25.1874 - val_loss: 1.5459 - val_mean_squared_error: 1.5459\n",
      "Epoch 33/250\n",
      "43/43 [==============================] - 1s 15ms/step - loss: 26.3319 - mean_squared_error: 26.3319 - val_loss: 1.5274 - val_mean_squared_error: 1.5274\n",
      "Epoch 34/250\n",
      "43/43 [==============================] - 1s 15ms/step - loss: 25.0131 - mean_squared_error: 25.0131 - val_loss: 1.2290 - val_mean_squared_error: 1.2290\n"
     ]
    }
   ],
   "source": [
    "history = model.fit(\n",
    "    sample_array,\n",
    "    label_array,\n",
    "    validation_split=0.1,\n",
    "    epochs=250,\n",
    "    batch_size=512,\n",
    "    callbacks=[\n",
    "        tf.keras.callbacks.EarlyStopping(\n",
    "            monitor='val_loss',\n",
    "            patience=10,\n",
    "            restore_best_weights=True\n",
    "        )\n",
    "    ]\n",
    ")"
   ]
  },
  {
   "cell_type": "code",
   "execution_count": 32,
   "id": "900f4c92",
   "metadata": {},
   "outputs": [
    {
     "data": {
      "image/png": "[encoded data removed]",
      "text/plain": [
       "<Figure size 432x288 with 1 Axes>"
      ]
     },
     "metadata": {
      "needs_background": "light"
     },
     "output_type": "display_data"
    },
    {
     "name": "stdout",
     "output_type": "stream",
     "text": [
      "6.116140380725272\n"
     ]
    }
   ],
   "source": [
    "import matplotlib.pyplot as plt\n",
    "\n",
    "\n",
    "plt.plot(history.history['loss'])\n",
    "plt.plot(history.history['val_loss'])\n",
    "plt.title('model loss')\n",
    "plt.ylabel('loss')\n",
    "plt.xlabel('epoch')\n",
    "plt.legend(['train', 'val'], loc='upper left')\n",
    "plt.show()\n",
    "\n",
    "\n",
    "from math import sqrt\n",
    "from sklearn.metrics import mean_squared_error\n",
    "\n",
    "output_lst = []\n",
    "truth_lst = []   \n",
    "\n",
    "for index in units_index_test:\n",
    "        sample_array, label_array = load_array(sample_dir_path, index, 50, 1)\n",
    "        sample_array = sample_array[::sub]\n",
    "        label_array = label_array[::sub]\n",
    "\n",
    "        y_pred_test = model.predict(sample_array)\n",
    "        output_lst.append(y_pred_test)\n",
    "        truth_lst.append(label_array)\n",
    "\n",
    "output_array = np.concatenate(output_lst)[:, 0]\n",
    "trytg_array = np.concatenate(truth_lst)\n",
    "\n",
    "RMSE = sqrt(mean_squared_error(output_array, trytg_array))\n",
    "print(RMSE)"
   ]
  },
  {
   "cell_type": "code",
   "execution_count": 33,
   "id": "11c4a22c",
   "metadata": {},
   "outputs": [],
   "source": [
    "model.save('WindowingLSTM.h5')"
   ]
  }
 ],
 "metadata": {
  "kernelspec": {
   "display_name": "Python 3 (ipykernel)",
   "language": "python",
   "name": "python3"
  },
  "language_info": {
   "codemirror_mode": {
    "name": "ipython",
    "version": 3
   },
   "file_extension": ".py",
   "mimetype": "text/x-python",
   "name": "python",
   "nbconvert_exporter": "python",
   "pygments_lexer": "ipython3",
   "version": "3.9.12"
  }
 },
 "nbformat": 4,
 "nbformat_minor": 5
}
